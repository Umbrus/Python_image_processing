{
 "cells": [
  {
   "cell_type": "markdown",
   "metadata": {},
   "source": [
    "# 14. Image classification by machine learning: Optical text recognition"
   ]
  },
  {
   "cell_type": "markdown",
   "metadata": {},
   "source": [
    "There are different types of machine learning. In some cases, like in the pixel classification task, the algorithm does the classification on its own by trying to optimize groups according to a given rule (unsupervised). In other cases one has to feed the algorithm with a set of annotated examples to train it (supervised). Here we are going to train an ML algorithm to recognize digits. Therefore the first things that we need is a good set of annotated examples. Luckily, since this is a \"popular\" problem, one can find such datasets on-line. In general, this is not the case, and one has to manually create such a dataset. Then one can either decide on a set of features that the algorithm has to use for learning or let the algorithm define those itself. Here we look at the first case, and we will look at the second one in the following chapters.\n",
    "\n",
    "Note that this notebooks does not present a complete OCR solution. The goal is rather to show the underlying principles of machine learning methods used for OCR."
   ]
  },
  {
   "cell_type": "code",
   "execution_count": 22,
   "metadata": {},
   "outputs": [],
   "source": [
    "import glob\n",
    "import numpy as np\n",
    "import matplotlib.pyplot as plt\n",
    "import pandas as pd\n",
    "import skimage\n",
    "import skimage.feature\n",
    "import course_functions\n",
    "datapath = course_functions.define_data_path()"
   ]
  },
  {
   "cell_type": "markdown",
   "metadata": {},
   "source": [
    "## 14.1 Exploring the dataset"
   ]
  },
  {
   "cell_type": "markdown",
   "metadata": {},
   "source": [
    "We found a good dataset [here](http://www.ee.surrey.ac.uk/CVSSP/demos/chars74k/) and downloaded it. Let's first have a look at it."
   ]
  },
  {
   "cell_type": "code",
   "execution_count": 3,
   "metadata": {},
   "outputs": [],
   "source": [
    "data_path = '/Users/gw18g940/Desktop/Test_data/ImageProcessingCourse/English_print/Fnt/'"
   ]
  },
  {
   "cell_type": "markdown",
   "metadata": {},
   "source": [
    "We have a folder with 62 sub-folders corresponding to digits and lower and upper-case characters:"
   ]
  },
  {
   "cell_type": "code",
   "execution_count": 4,
   "metadata": {},
   "outputs": [
    {
     "name": "stdout",
     "output_type": "stream",
     "text": [
      "['/Users/gw18g940/Desktop/Test_data/ImageProcessingCourse/English_print/Fnt/Sample001'\n",
      " '/Users/gw18g940/Desktop/Test_data/ImageProcessingCourse/English_print/Fnt/Sample002'\n",
      " '/Users/gw18g940/Desktop/Test_data/ImageProcessingCourse/English_print/Fnt/Sample003'\n",
      " '/Users/gw18g940/Desktop/Test_data/ImageProcessingCourse/English_print/Fnt/Sample004'\n",
      " '/Users/gw18g940/Desktop/Test_data/ImageProcessingCourse/English_print/Fnt/Sample005'\n",
      " '/Users/gw18g940/Desktop/Test_data/ImageProcessingCourse/English_print/Fnt/Sample006'\n",
      " '/Users/gw18g940/Desktop/Test_data/ImageProcessingCourse/English_print/Fnt/Sample007'\n",
      " '/Users/gw18g940/Desktop/Test_data/ImageProcessingCourse/English_print/Fnt/Sample008'\n",
      " '/Users/gw18g940/Desktop/Test_data/ImageProcessingCourse/English_print/Fnt/Sample009'\n",
      " '/Users/gw18g940/Desktop/Test_data/ImageProcessingCourse/English_print/Fnt/Sample010'\n",
      " '/Users/gw18g940/Desktop/Test_data/ImageProcessingCourse/English_print/Fnt/Sample011'\n",
      " '/Users/gw18g940/Desktop/Test_data/ImageProcessingCourse/English_print/Fnt/Sample012'\n",
      " '/Users/gw18g940/Desktop/Test_data/ImageProcessingCourse/English_print/Fnt/Sample013'\n",
      " '/Users/gw18g940/Desktop/Test_data/ImageProcessingCourse/English_print/Fnt/Sample014'\n",
      " '/Users/gw18g940/Desktop/Test_data/ImageProcessingCourse/English_print/Fnt/Sample015'\n",
      " '/Users/gw18g940/Desktop/Test_data/ImageProcessingCourse/English_print/Fnt/Sample016'\n",
      " '/Users/gw18g940/Desktop/Test_data/ImageProcessingCourse/English_print/Fnt/Sample017'\n",
      " '/Users/gw18g940/Desktop/Test_data/ImageProcessingCourse/English_print/Fnt/Sample018'\n",
      " '/Users/gw18g940/Desktop/Test_data/ImageProcessingCourse/English_print/Fnt/Sample019'\n",
      " '/Users/gw18g940/Desktop/Test_data/ImageProcessingCourse/English_print/Fnt/Sample020'\n",
      " '/Users/gw18g940/Desktop/Test_data/ImageProcessingCourse/English_print/Fnt/Sample021'\n",
      " '/Users/gw18g940/Desktop/Test_data/ImageProcessingCourse/English_print/Fnt/Sample022'\n",
      " '/Users/gw18g940/Desktop/Test_data/ImageProcessingCourse/English_print/Fnt/Sample023'\n",
      " '/Users/gw18g940/Desktop/Test_data/ImageProcessingCourse/English_print/Fnt/Sample024'\n",
      " '/Users/gw18g940/Desktop/Test_data/ImageProcessingCourse/English_print/Fnt/Sample025'\n",
      " '/Users/gw18g940/Desktop/Test_data/ImageProcessingCourse/English_print/Fnt/Sample026'\n",
      " '/Users/gw18g940/Desktop/Test_data/ImageProcessingCourse/English_print/Fnt/Sample027'\n",
      " '/Users/gw18g940/Desktop/Test_data/ImageProcessingCourse/English_print/Fnt/Sample028'\n",
      " '/Users/gw18g940/Desktop/Test_data/ImageProcessingCourse/English_print/Fnt/Sample029'\n",
      " '/Users/gw18g940/Desktop/Test_data/ImageProcessingCourse/English_print/Fnt/Sample030'\n",
      " '/Users/gw18g940/Desktop/Test_data/ImageProcessingCourse/English_print/Fnt/Sample031'\n",
      " '/Users/gw18g940/Desktop/Test_data/ImageProcessingCourse/English_print/Fnt/Sample032'\n",
      " '/Users/gw18g940/Desktop/Test_data/ImageProcessingCourse/English_print/Fnt/Sample033'\n",
      " '/Users/gw18g940/Desktop/Test_data/ImageProcessingCourse/English_print/Fnt/Sample034'\n",
      " '/Users/gw18g940/Desktop/Test_data/ImageProcessingCourse/English_print/Fnt/Sample035'\n",
      " '/Users/gw18g940/Desktop/Test_data/ImageProcessingCourse/English_print/Fnt/Sample036'\n",
      " '/Users/gw18g940/Desktop/Test_data/ImageProcessingCourse/English_print/Fnt/Sample037'\n",
      " '/Users/gw18g940/Desktop/Test_data/ImageProcessingCourse/English_print/Fnt/Sample038'\n",
      " '/Users/gw18g940/Desktop/Test_data/ImageProcessingCourse/English_print/Fnt/Sample039'\n",
      " '/Users/gw18g940/Desktop/Test_data/ImageProcessingCourse/English_print/Fnt/Sample040'\n",
      " '/Users/gw18g940/Desktop/Test_data/ImageProcessingCourse/English_print/Fnt/Sample041'\n",
      " '/Users/gw18g940/Desktop/Test_data/ImageProcessingCourse/English_print/Fnt/Sample042'\n",
      " '/Users/gw18g940/Desktop/Test_data/ImageProcessingCourse/English_print/Fnt/Sample043'\n",
      " '/Users/gw18g940/Desktop/Test_data/ImageProcessingCourse/English_print/Fnt/Sample044'\n",
      " '/Users/gw18g940/Desktop/Test_data/ImageProcessingCourse/English_print/Fnt/Sample045'\n",
      " '/Users/gw18g940/Desktop/Test_data/ImageProcessingCourse/English_print/Fnt/Sample046'\n",
      " '/Users/gw18g940/Desktop/Test_data/ImageProcessingCourse/English_print/Fnt/Sample047'\n",
      " '/Users/gw18g940/Desktop/Test_data/ImageProcessingCourse/English_print/Fnt/Sample048'\n",
      " '/Users/gw18g940/Desktop/Test_data/ImageProcessingCourse/English_print/Fnt/Sample049'\n",
      " '/Users/gw18g940/Desktop/Test_data/ImageProcessingCourse/English_print/Fnt/Sample050'\n",
      " '/Users/gw18g940/Desktop/Test_data/ImageProcessingCourse/English_print/Fnt/Sample051'\n",
      " '/Users/gw18g940/Desktop/Test_data/ImageProcessingCourse/English_print/Fnt/Sample052'\n",
      " '/Users/gw18g940/Desktop/Test_data/ImageProcessingCourse/English_print/Fnt/Sample053'\n",
      " '/Users/gw18g940/Desktop/Test_data/ImageProcessingCourse/English_print/Fnt/Sample054'\n",
      " '/Users/gw18g940/Desktop/Test_data/ImageProcessingCourse/English_print/Fnt/Sample055'\n",
      " '/Users/gw18g940/Desktop/Test_data/ImageProcessingCourse/English_print/Fnt/Sample056'\n",
      " '/Users/gw18g940/Desktop/Test_data/ImageProcessingCourse/English_print/Fnt/Sample057'\n",
      " '/Users/gw18g940/Desktop/Test_data/ImageProcessingCourse/English_print/Fnt/Sample058'\n",
      " '/Users/gw18g940/Desktop/Test_data/ImageProcessingCourse/English_print/Fnt/Sample059'\n",
      " '/Users/gw18g940/Desktop/Test_data/ImageProcessingCourse/English_print/Fnt/Sample060'\n",
      " '/Users/gw18g940/Desktop/Test_data/ImageProcessingCourse/English_print/Fnt/Sample061'\n",
      " '/Users/gw18g940/Desktop/Test_data/ImageProcessingCourse/English_print/Fnt/Sample062']\n"
     ]
    }
   ],
   "source": [
    "samples = np.sort(glob.glob(data_path+'*'))\n",
    "print(samples)"
   ]
  },
  {
   "cell_type": "markdown",
   "metadata": {},
   "source": [
    "Let's check the contents by plotting the first 5 images of a folder:"
   ]
  },
  {
   "cell_type": "code",
   "execution_count": 13,
   "metadata": {},
   "outputs": [],
   "source": [
    "files = glob.glob(samples[7]+'/*.png')\n"
   ]
  },
  {
   "cell_type": "code",
   "execution_count": 19,
   "metadata": {},
   "outputs": [
    {
     "data": {
      "image/png": "[encoded data removed]",
      "text/plain": [
       "<Figure size 1080x1080 with 10 Axes>"
      ]
     },
     "metadata": {
      "needs_background": "light"
     },
     "output_type": "display_data"
    }
   ],
   "source": [
    "plt.figure(figsize=(15,15))\n",
    "for i in range(10):\n",
    "    plt.subplot(1,10,i+1)\n",
    "    image = skimage.io.imread(files[i])\n",
    "    plt.imshow(image, cmap = 'gray')\n",
    "plt.show()"
   ]
  },
  {
   "cell_type": "markdown",
   "metadata": {},
   "source": [
    "So we have samples of each character written with different fonts and types (italic, bold)."
   ]
  },
  {
   "cell_type": "markdown",
   "metadata": {},
   "source": [
    "## 14.2 Classifying digits"
   ]
  },
  {
   "cell_type": "markdown",
   "metadata": {},
   "source": [
    "We are first going to try to classify digits. Our goal is to be able to pass an image of the type shown above to our ML algorithm so that the latter can say what digit is present in that image.\n",
    "\n",
    "First, we have to decide what information the algorithm should use to make that decision. The simplest thing to do is to just say that each pixel is a \"feature\", and thus to use a flattened version of each image as feature space.\n",
    "\n",
    "So that the process is a bit faster we are going to rescale all the images to 32x32 pixels so that we have $32^2$ features."
   ]
  },
  {
   "cell_type": "markdown",
   "metadata": {},
   "source": [
    "### 14.2.1 Loading and scaling images\n",
    "\n",
    "For each digit, we load 50 images by randomly selecting them. We rescale them and reshape them in a single comprehension list. Let's see what happens for one digit:"
   ]
  },
  {
   "cell_type": "code",
   "execution_count": 29,
   "metadata": {},
   "outputs": [],
   "source": [
    "data = [np.reshape(skimage.transform.rescale(skimage.io.imread(files[x]),1/4),32**2) \n",
    "        for x in np.random.choice(np.arange(len(files)),10,replace=False)]"
   ]
  },
  {
   "cell_type": "code",
   "execution_count": 34,
   "metadata": {},
   "outputs": [
    {
     "data": {
      "text/plain": [
       "(1024,)"
      ]
     },
     "execution_count": 34,
     "metadata": {},
     "output_type": "execute_result"
    }
   ],
   "source": [
    "data[0].shape"
   ]
  },
  {
   "cell_type": "code",
   "execution_count": 30,
   "metadata": {},
   "outputs": [
    {
     "data": {
      "image/png": "[encoded data removed]",
      "text/plain": [
       "<Figure size 432x288 with 1 Axes>"
      ]
     },
     "metadata": {
      "needs_background": "light"
     },
     "output_type": "display_data"
    }
   ],
   "source": [
    "plt.imshow(np.reshape(data[2],(32,32)),cmap = 'gray')\n",
    "plt.show()"
   ]
  },
  {
   "cell_type": "markdown",
   "metadata": {},
   "source": [
    "Now let's do this for all digits and aggregate all these data into ```all_data```:"
   ]
  },
  {
   "cell_type": "code",
   "execution_count": 142,
   "metadata": {},
   "outputs": [
    {
     "name": "stderr",
     "output_type": "stream",
     "text": [
      "/Users/gw18g940/miniconda3/envs/pyimageprocessing/lib/python3.6/site-packages/skimage/transform/_warps.py:24: UserWarning: The default multichannel argument (None) is deprecated.  Please specify either True or False explicitly.  multichannel will default to False starting with release 0.16.\n",
      "  warn('The default multichannel argument (None) is deprecated.  Please '\n",
      "/Users/gw18g940/miniconda3/envs/pyimageprocessing/lib/python3.6/site-packages/skimage/transform/_warps.py:105: UserWarning: The default mode, 'constant', will be changed to 'reflect' in skimage 0.15.\n",
      "  warn(\"The default mode, 'constant', will be changed to 'reflect' in \"\n",
      "/Users/gw18g940/miniconda3/envs/pyimageprocessing/lib/python3.6/site-packages/skimage/transform/_warps.py:110: UserWarning: Anti-aliasing will be enabled by default in skimage 0.15 to avoid aliasing artifacts when down-sampling images.\n",
      "  warn(\"Anti-aliasing will be enabled by default in skimage 0.15 to \"\n"
     ]
    }
   ],
   "source": [
    "num_samples = 500\n",
    "\n",
    "all_data = []\n",
    "for ind, s in enumerate(samples[0:10]):\n",
    "    files = glob.glob(s+'/*.png')\n",
    "    \n",
    "    data = np.array([np.reshape(skimage.transform.rescale(skimage.io.imread(files[x]),1/4),32**2) \n",
    "        for x in np.random.choice(np.arange(len(files)),num_samples,replace=False)])\n",
    "    \n",
    "    all_data.append(data)\n"
   ]
  },
  {
   "cell_type": "markdown",
   "metadata": {},
   "source": [
    "Now we concatenate all these data into one single matrix:"
   ]
  },
  {
   "cell_type": "code",
   "execution_count": 143,
   "metadata": {},
   "outputs": [],
   "source": [
    "data = np.concatenate(all_data,axis = 0)"
   ]
  },
  {
   "cell_type": "code",
   "execution_count": 144,
   "metadata": {},
   "outputs": [
    {
     "data": {
      "text/plain": [
       "(5000, 1024)"
      ]
     },
     "execution_count": 144,
     "metadata": {},
     "output_type": "execute_result"
    }
   ],
   "source": [
    "data.shape"
   ]
  },
  {
   "cell_type": "markdown",
   "metadata": {},
   "source": [
    "### 14.2.2 Creating categories"
   ]
  },
  {
   "cell_type": "markdown",
   "metadata": {},
   "source": [
    "We have 50 examples for 10 digits and each example has 1024 features. We also need to create an array that contains the information \"what digit is present at each row of the ```data``` array. We have 500 times a list of each digit:"
   ]
  },
  {
   "cell_type": "code",
   "execution_count": 145,
   "metadata": {},
   "outputs": [],
   "source": [
    "cats = [str(i) for i in range(len(all_data))]\n",
    "category = np.concatenate([[cats[i] for j in range(num_samples)] for i in range(len(cats))])"
   ]
  },
  {
   "cell_type": "code",
   "execution_count": 146,
   "metadata": {},
   "outputs": [
    {
     "data": {
      "text/plain": [
       "array(['0', '0', '0', ..., '9', '9', '9'], dtype='<U1')"
      ]
     },
     "execution_count": 146,
     "metadata": {},
     "output_type": "execute_result"
    }
   ],
   "source": [
    "category"
   ]
  },
  {
   "cell_type": "markdown",
   "metadata": {},
   "source": [
    "### 14.2.3 Running the ML algorithm"
   ]
  },
  {
   "cell_type": "markdown",
   "metadata": {},
   "source": [
    "Now we are ready to use our dataset of features and our corresponding list of categories to train a classifier. We are going to use here a Random Forest classifier implement in scikit-learn:"
   ]
  },
  {
   "cell_type": "code",
   "execution_count": 147,
   "metadata": {},
   "outputs": [],
   "source": [
    "from sklearn.model_selection import train_test_split\n",
    "from sklearn.ensemble import RandomForestClassifier\n",
    "from sklearn import metrics\n",
    "from sklearn.metrics import confusion_matrix"
   ]
  },
  {
   "cell_type": "markdown",
   "metadata": {},
   "source": [
    "First we have to split the dataset into a training and a testing dataset. It is very important to test the classifier on data that have not been seen previously by it!"
   ]
  },
  {
   "cell_type": "code",
   "execution_count": 148,
   "metadata": {},
   "outputs": [],
   "source": [
    "Xtrain, Xtest, ytrain, ytest = train_test_split(data, category, random_state=0)"
   ]
  },
  {
   "cell_type": "markdown",
   "metadata": {},
   "source": [
    "Now we can do the actual learning:"
   ]
  },
  {
   "cell_type": "code",
   "execution_count": 149,
   "metadata": {},
   "outputs": [
    {
     "data": {
      "text/plain": [
       "RandomForestClassifier(bootstrap=True, class_weight=None, criterion='gini',\n",
       "            max_depth=None, max_features='auto', max_leaf_nodes=None,\n",
       "            min_impurity_decrease=0.0, min_impurity_split=None,\n",
       "            min_samples_leaf=1, min_samples_split=2,\n",
       "            min_weight_fraction_leaf=0.0, n_estimators=1000, n_jobs=None,\n",
       "            oob_score=False, random_state=None, verbose=0,\n",
       "            warm_start=False)"
      ]
     },
     "execution_count": 149,
     "metadata": {},
     "output_type": "execute_result"
    }
   ],
   "source": [
    "model = RandomForestClassifier(n_estimators=1000)\n",
    "model.fit(Xtrain, ytrain)"
   ]
  },
  {
   "cell_type": "markdown",
   "metadata": {},
   "source": [
    "Finally we can verify the predictions on the test dataset. The predict function returns a list of the category to which each testing sample has been assigned."
   ]
  },
  {
   "cell_type": "code",
   "execution_count": 150,
   "metadata": {},
   "outputs": [],
   "source": [
    "ypred = model.predict(Xtest)"
   ]
  },
  {
   "cell_type": "code",
   "execution_count": 151,
   "metadata": {},
   "outputs": [
    {
     "data": {
      "text/plain": [
       "array(['0', '7', '9', ..., '0', '6', '4'], dtype='<U1')"
      ]
     },
     "execution_count": 151,
     "metadata": {},
     "output_type": "execute_result"
    }
   ],
   "source": [
    "ypred"
   ]
  },
  {
   "cell_type": "markdown",
   "metadata": {},
   "source": [
    "We can look at a few examples:"
   ]
  },
  {
   "cell_type": "code",
   "execution_count": 152,
   "metadata": {},
   "outputs": [
    {
     "data": {
      "image/png": "[encoded data removed]",
      "text/plain": [
       "<Figure size 1080x720 with 10 Axes>"
      ]
     },
     "metadata": {
      "needs_background": "light"
     },
     "output_type": "display_data"
    }
   ],
   "source": [
    "fig, ax = plt.subplots(1, 10, figsize = (15,10))\n",
    "for x in range(10):\n",
    "    ax[x].imshow(np.reshape(Xtest[x],(32,32)),cmap='gray')\n",
    "    ax[x].set_title(ypred[x])\n",
    "plt.show()"
   ]
  },
  {
   "cell_type": "markdown",
   "metadata": {},
   "source": [
    "In order to get a more comprehensive view, we can look at some statistics:"
   ]
  },
  {
   "cell_type": "code",
   "execution_count": 153,
   "metadata": {},
   "outputs": [
    {
     "name": "stdout",
     "output_type": "stream",
     "text": [
      "              precision    recall  f1-score   support\n",
      "\n",
      "           0       0.96      0.97      0.96       118\n",
      "           1       0.96      0.94      0.95       128\n",
      "           2       0.98      0.97      0.98       122\n",
      "           3       0.94      0.98      0.96       113\n",
      "           4       0.98      0.99      0.99       113\n",
      "           5       0.96      0.96      0.96       139\n",
      "           6       0.97      0.93      0.95       119\n",
      "           7       1.00      0.98      0.99       132\n",
      "           8       0.94      0.98      0.96       134\n",
      "           9       0.97      0.97      0.97       132\n",
      "\n",
      "   micro avg       0.97      0.97      0.97      1250\n",
      "   macro avg       0.97      0.97      0.97      1250\n",
      "weighted avg       0.97      0.97      0.97      1250\n",
      "\n"
     ]
    }
   ],
   "source": [
    "print(metrics.classification_report(ypred, ytest))"
   ]
  },
  {
   "cell_type": "markdown",
   "metadata": {},
   "source": [
    "We see that our very simple features, basically the pixel positions, and 50 examples per class are sufficient to reach a very good result."
   ]
  },
  {
   "cell_type": "markdown",
   "metadata": {},
   "source": [
    "## 14.3 Using the classifier on \"real\" data"
   ]
  },
  {
   "cell_type": "markdown",
   "metadata": {},
   "source": [
    "Let's try to segment a real-life case: an image of a digital screen:"
   ]
  },
  {
   "cell_type": "code",
   "execution_count": 154,
   "metadata": {},
   "outputs": [],
   "source": [
    "jpg = skimage.io.imread('/Users/gw18g940/Desktop/Test_data/ImageProcessingCourse/digit.jpg')"
   ]
  },
  {
   "cell_type": "code",
   "execution_count": 155,
   "metadata": {},
   "outputs": [
    {
     "data": {
      "image/png": "[encoded data removed]",
      "text/plain": [
       "<Figure size 432x288 with 1 Axes>"
      ]
     },
     "metadata": {
      "needs_background": "light"
     },
     "output_type": "display_data"
    }
   ],
   "source": [
    "plt.imshow(jpg, cmap = 'gray')\n",
    "plt.show()"
   ]
  },
  {
   "cell_type": "markdown",
   "metadata": {},
   "source": [
    "### 14.3.1 Pre-processing"
   ]
  },
  {
   "cell_type": "markdown",
   "metadata": {},
   "source": [
    "We trained our classifier on black and white pictures, so let's first convert the image and create a black and white version using a thresholder:"
   ]
  },
  {
   "cell_type": "code",
   "execution_count": 156,
   "metadata": {},
   "outputs": [],
   "source": [
    "jpg = skimage.color.rgb2gray(jpg)\n",
    "th = skimage.filters.threshold_li(jpg)\n",
    "jpg_th = jpg<th"
   ]
  },
  {
   "cell_type": "code",
   "execution_count": 157,
   "metadata": {},
   "outputs": [
    {
     "data": {
      "image/png": "[encoded data removed]",
      "text/plain": [
       "<Figure size 432x288 with 1 Axes>"
      ]
     },
     "metadata": {
      "needs_background": "light"
     },
     "output_type": "display_data"
    }
   ],
   "source": [
    "plt.imshow(jpg_th, cmap = 'gray')\n",
    "plt.show()"
   ]
  },
  {
   "cell_type": "markdown",
   "metadata": {},
   "source": [
    "### 14.3.2 Identifying numbers"
   ]
  },
  {
   "cell_type": "markdown",
   "metadata": {
    "scrolled": true
   },
   "source": [
    "First we need to identify each single number present here in the second row. If we project the image along the horizontal direction, we clearly see an \"empty\" region. By detecting where the steps are, we can isolate the two lines of text:"
   ]
  },
  {
   "cell_type": "code",
   "execution_count": 158,
   "metadata": {},
   "outputs": [
    {
     "data": {
      "image/png": "[encoded data removed]",
      "text/plain": [
       "<Figure size 432x288 with 1 Axes>"
      ]
     },
     "metadata": {
      "needs_background": "light"
     },
     "output_type": "display_data"
    }
   ],
   "source": [
    "plt.plot(np.max(jpg_th,axis = 1))\n",
    "plt.show()"
   ]
  },
  {
   "cell_type": "code",
   "execution_count": 159,
   "metadata": {},
   "outputs": [],
   "source": [
    "#create projection\n",
    "proj = np.max(jpg_th,axis = 1)\n",
    "#select \"positive\" regions and find their indices\n",
    "regions = proj > 0.5\n",
    "text_indices = np.arange(jpg.shape[0])[regions]\n",
    "#find the steps and split the indices into two groups\n",
    "splits = np.split(text_indices,np.where(np.diff(np.arange(jpg.shape[0])[regions])>1)[0]+1)"
   ]
  },
  {
   "cell_type": "code",
   "execution_count": 160,
   "metadata": {},
   "outputs": [
    {
     "data": {
      "image/png": "[encoded data removed]",
      "text/plain": [
       "<Figure size 432x288 with 1 Axes>"
      ]
     },
     "metadata": {
      "needs_background": "light"
     },
     "output_type": "display_data"
    }
   ],
   "source": [
    "plt.imshow(jpg[splits[1],:],cmap = 'gray')\n",
    "plt.show()"
   ]
  },
  {
   "cell_type": "markdown",
   "metadata": {},
   "source": [
    "To separate each digit we proceed in the same way by projecting along the vertical dimensions:"
   ]
  },
  {
   "cell_type": "code",
   "execution_count": 161,
   "metadata": {},
   "outputs": [],
   "source": [
    "#select line to process\n",
    "line_ind = 1\n",
    "proj2 = np.min(jpg[splits[line_ind],:],axis = 0)\n",
    "regions = proj2 < 0.5\n",
    "text_indices = np.arange(jpg.shape[1])[regions]\n",
    "splits2 = np.split(text_indices,np.where(np.diff(np.arange(jpg.shape[1])[regions])>1)[0]+1)"
   ]
  },
  {
   "cell_type": "markdown",
   "metadata": {},
   "source": [
    "```splits2``` contains all column indices for each digit:"
   ]
  },
  {
   "cell_type": "code",
   "execution_count": 162,
   "metadata": {},
   "outputs": [],
   "source": [
    "characters = [jpg_th[splits[line_ind],x[0]:x[-1]] for x in splits2]"
   ]
  },
  {
   "cell_type": "code",
   "execution_count": 163,
   "metadata": {},
   "outputs": [
    {
     "data": {
      "image/png": "[encoded data removed]",
      "text/plain": [
       "<Figure size 432x288 with 10 Axes>"
      ]
     },
     "metadata": {
      "needs_background": "light"
     },
     "output_type": "display_data"
    }
   ],
   "source": [
    "for ind, x in enumerate(characters):\n",
    "    plt.subplot(1,10, ind+1)\n",
    "    plt.imshow(x)\n",
    "plt.show()"
   ]
  },
  {
   "cell_type": "markdown",
   "metadata": {},
   "source": [
    "### 14.3.3 Rescaling\n",
    "\n",
    "Since we rely on pixels positions as features, we have to make sure that the images we are passing to the classifier are similar to those used for training. Those had on average a height of 24 pixels. So let's rescale:"
   ]
  },
  {
   "cell_type": "code",
   "execution_count": 165,
   "metadata": {},
   "outputs": [
    {
     "name": "stderr",
     "output_type": "stream",
     "text": [
      "/Users/gw18g940/miniconda3/envs/pyimageprocessing/lib/python3.6/site-packages/skimage/transform/_warps.py:24: UserWarning: The default multichannel argument (None) is deprecated.  Please specify either True or False explicitly.  multichannel will default to False starting with release 0.16.\n",
      "  warn('The default multichannel argument (None) is deprecated.  Please '\n",
      "/Users/gw18g940/miniconda3/envs/pyimageprocessing/lib/python3.6/site-packages/skimage/transform/_warps.py:105: UserWarning: The default mode, 'constant', will be changed to 'reflect' in skimage 0.15.\n",
      "  warn(\"The default mode, 'constant', will be changed to 'reflect' in \"\n",
      "/Users/gw18g940/miniconda3/envs/pyimageprocessing/lib/python3.6/site-packages/skimage/transform/_warps.py:110: UserWarning: Anti-aliasing will be enabled by default in skimage 0.15 to avoid aliasing artifacts when down-sampling images.\n",
      "  warn(\"Anti-aliasing will be enabled by default in skimage 0.15 to \"\n"
     ]
    }
   ],
   "source": [
    "im_re = skimage.transform.rescale(characters[2],1/(characters[2].shape[0]/24), preserve_range=True, order = 0)"
   ]
  },
  {
   "cell_type": "markdown",
   "metadata": {},
   "source": [
    "Additionally, the images are square and have 32 pixels. So let's pad our images. We do that by filling an empty image with our image at the middle. We also have to make sure that the intensity scale is correct:"
   ]
  },
  {
   "cell_type": "code",
   "execution_count": 166,
   "metadata": {},
   "outputs": [],
   "source": [
    "empty = np.zeros((32,32))\n",
    "empty[int((32-im_re.shape[0])/2):int((32-im_re.shape[0])/2)+im_re.shape[0],\n",
    "     int((32-im_re.shape[1])/2):int((32-im_re.shape[1])/2)+im_re.shape[1]] = im_re\n",
    "empty = empty<0.5\n",
    "\n",
    "to_pass = (255*empty).astype(np.uint8)"
   ]
  },
  {
   "cell_type": "code",
   "execution_count": 167,
   "metadata": {},
   "outputs": [
    {
     "data": {
      "image/png": "[encoded data removed]",
      "text/plain": [
       "<Figure size 432x288 with 1 Axes>"
      ]
     },
     "metadata": {
      "needs_background": "light"
     },
     "output_type": "display_data"
    }
   ],
   "source": [
    "plt.imshow(empty)\n",
    "plt.show()"
   ]
  },
  {
   "cell_type": "markdown",
   "metadata": {},
   "source": [
    "Finally we can pass this to the classifier:"
   ]
  },
  {
   "cell_type": "code",
   "execution_count": 168,
   "metadata": {},
   "outputs": [
    {
     "data": {
      "image/png": "[encoded data removed]",
      "text/plain": [
       "<Figure size 432x288 with 1 Axes>"
      ]
     },
     "metadata": {
      "needs_background": "light"
     },
     "output_type": "display_data"
    }
   ],
   "source": [
    "ypred = model.predict(np.reshape(to_pass,32**2)[np.newaxis,:])\n",
    "fig,ax = plt.subplots()\n",
    "plt.imshow(to_pass)\n",
    "ax.set_title('Prediction: '+ ypred[0])\n",
    "plt.show()"
   ]
  },
  {
   "cell_type": "markdown",
   "metadata": {},
   "source": [
    "Let's do the same exercise for all digits:"
   ]
  },
  {
   "cell_type": "code",
   "execution_count": 169,
   "metadata": {
    "scrolled": false
   },
   "outputs": [
    {
     "name": "stderr",
     "output_type": "stream",
     "text": [
      "/Users/gw18g940/miniconda3/envs/pyimageprocessing/lib/python3.6/site-packages/skimage/transform/_warps.py:24: UserWarning: The default multichannel argument (None) is deprecated.  Please specify either True or False explicitly.  multichannel will default to False starting with release 0.16.\n",
      "  warn('The default multichannel argument (None) is deprecated.  Please '\n",
      "/Users/gw18g940/miniconda3/envs/pyimageprocessing/lib/python3.6/site-packages/skimage/transform/_warps.py:105: UserWarning: The default mode, 'constant', will be changed to 'reflect' in skimage 0.15.\n",
      "  warn(\"The default mode, 'constant', will be changed to 'reflect' in \"\n",
      "/Users/gw18g940/miniconda3/envs/pyimageprocessing/lib/python3.6/site-packages/skimage/transform/_warps.py:110: UserWarning: Anti-aliasing will be enabled by default in skimage 0.15 to avoid aliasing artifacts when down-sampling images.\n",
      "  warn(\"Anti-aliasing will be enabled by default in skimage 0.15 to \"\n",
      "/Users/gw18g940/miniconda3/envs/pyimageprocessing/lib/python3.6/site-packages/skimage/transform/_warps.py:24: UserWarning: The default multichannel argument (None) is deprecated.  Please specify either True or False explicitly.  multichannel will default to False starting with release 0.16.\n",
      "  warn('The default multichannel argument (None) is deprecated.  Please '\n",
      "/Users/gw18g940/miniconda3/envs/pyimageprocessing/lib/python3.6/site-packages/skimage/transform/_warps.py:105: UserWarning: The default mode, 'constant', will be changed to 'reflect' in skimage 0.15.\n",
      "  warn(\"The default mode, 'constant', will be changed to 'reflect' in \"\n",
      "/Users/gw18g940/miniconda3/envs/pyimageprocessing/lib/python3.6/site-packages/skimage/transform/_warps.py:110: UserWarning: Anti-aliasing will be enabled by default in skimage 0.15 to avoid aliasing artifacts when down-sampling images.\n",
      "  warn(\"Anti-aliasing will be enabled by default in skimage 0.15 to \"\n",
      "/Users/gw18g940/miniconda3/envs/pyimageprocessing/lib/python3.6/site-packages/skimage/transform/_warps.py:24: UserWarning: The default multichannel argument (None) is deprecated.  Please specify either True or False explicitly.  multichannel will default to False starting with release 0.16.\n",
      "  warn('The default multichannel argument (None) is deprecated.  Please '\n",
      "/Users/gw18g940/miniconda3/envs/pyimageprocessing/lib/python3.6/site-packages/skimage/transform/_warps.py:105: UserWarning: The default mode, 'constant', will be changed to 'reflect' in skimage 0.15.\n",
      "  warn(\"The default mode, 'constant', will be changed to 'reflect' in \"\n",
      "/Users/gw18g940/miniconda3/envs/pyimageprocessing/lib/python3.6/site-packages/skimage/transform/_warps.py:110: UserWarning: Anti-aliasing will be enabled by default in skimage 0.15 to avoid aliasing artifacts when down-sampling images.\n",
      "  warn(\"Anti-aliasing will be enabled by default in skimage 0.15 to \"\n",
      "/Users/gw18g940/miniconda3/envs/pyimageprocessing/lib/python3.6/site-packages/skimage/transform/_warps.py:24: UserWarning: The default multichannel argument (None) is deprecated.  Please specify either True or False explicitly.  multichannel will default to False starting with release 0.16.\n",
      "  warn('The default multichannel argument (None) is deprecated.  Please '\n",
      "/Users/gw18g940/miniconda3/envs/pyimageprocessing/lib/python3.6/site-packages/skimage/transform/_warps.py:105: UserWarning: The default mode, 'constant', will be changed to 'reflect' in skimage 0.15.\n",
      "  warn(\"The default mode, 'constant', will be changed to 'reflect' in \"\n",
      "/Users/gw18g940/miniconda3/envs/pyimageprocessing/lib/python3.6/site-packages/skimage/transform/_warps.py:110: UserWarning: Anti-aliasing will be enabled by default in skimage 0.15 to avoid aliasing artifacts when down-sampling images.\n",
      "  warn(\"Anti-aliasing will be enabled by default in skimage 0.15 to \"\n",
      "/Users/gw18g940/miniconda3/envs/pyimageprocessing/lib/python3.6/site-packages/skimage/transform/_warps.py:24: UserWarning: The default multichannel argument (None) is deprecated.  Please specify either True or False explicitly.  multichannel will default to False starting with release 0.16.\n",
      "  warn('The default multichannel argument (None) is deprecated.  Please '\n",
      "/Users/gw18g940/miniconda3/envs/pyimageprocessing/lib/python3.6/site-packages/skimage/transform/_warps.py:105: UserWarning: The default mode, 'constant', will be changed to 'reflect' in skimage 0.15.\n",
      "  warn(\"The default mode, 'constant', will be changed to 'reflect' in \"\n",
      "/Users/gw18g940/miniconda3/envs/pyimageprocessing/lib/python3.6/site-packages/skimage/transform/_warps.py:110: UserWarning: Anti-aliasing will be enabled by default in skimage 0.15 to avoid aliasing artifacts when down-sampling images.\n",
      "  warn(\"Anti-aliasing will be enabled by default in skimage 0.15 to \"\n",
      "/Users/gw18g940/miniconda3/envs/pyimageprocessing/lib/python3.6/site-packages/skimage/transform/_warps.py:24: UserWarning: The default multichannel argument (None) is deprecated.  Please specify either True or False explicitly.  multichannel will default to False starting with release 0.16.\n",
      "  warn('The default multichannel argument (None) is deprecated.  Please '\n",
      "/Users/gw18g940/miniconda3/envs/pyimageprocessing/lib/python3.6/site-packages/skimage/transform/_warps.py:105: UserWarning: The default mode, 'constant', will be changed to 'reflect' in skimage 0.15.\n",
      "  warn(\"The default mode, 'constant', will be changed to 'reflect' in \"\n",
      "/Users/gw18g940/miniconda3/envs/pyimageprocessing/lib/python3.6/site-packages/skimage/transform/_warps.py:110: UserWarning: Anti-aliasing will be enabled by default in skimage 0.15 to avoid aliasing artifacts when down-sampling images.\n",
      "  warn(\"Anti-aliasing will be enabled by default in skimage 0.15 to \"\n",
      "/Users/gw18g940/miniconda3/envs/pyimageprocessing/lib/python3.6/site-packages/skimage/transform/_warps.py:24: UserWarning: The default multichannel argument (None) is deprecated.  Please specify either True or False explicitly.  multichannel will default to False starting with release 0.16.\n",
      "  warn('The default multichannel argument (None) is deprecated.  Please '\n",
      "/Users/gw18g940/miniconda3/envs/pyimageprocessing/lib/python3.6/site-packages/skimage/transform/_warps.py:105: UserWarning: The default mode, 'constant', will be changed to 'reflect' in skimage 0.15.\n",
      "  warn(\"The default mode, 'constant', will be changed to 'reflect' in \"\n",
      "/Users/gw18g940/miniconda3/envs/pyimageprocessing/lib/python3.6/site-packages/skimage/transform/_warps.py:110: UserWarning: Anti-aliasing will be enabled by default in skimage 0.15 to avoid aliasing artifacts when down-sampling images.\n",
      "  warn(\"Anti-aliasing will be enabled by default in skimage 0.15 to \"\n",
      "/Users/gw18g940/miniconda3/envs/pyimageprocessing/lib/python3.6/site-packages/skimage/transform/_warps.py:24: UserWarning: The default multichannel argument (None) is deprecated.  Please specify either True or False explicitly.  multichannel will default to False starting with release 0.16.\n",
      "  warn('The default multichannel argument (None) is deprecated.  Please '\n",
      "/Users/gw18g940/miniconda3/envs/pyimageprocessing/lib/python3.6/site-packages/skimage/transform/_warps.py:105: UserWarning: The default mode, 'constant', will be changed to 'reflect' in skimage 0.15.\n",
      "  warn(\"The default mode, 'constant', will be changed to 'reflect' in \"\n",
      "/Users/gw18g940/miniconda3/envs/pyimageprocessing/lib/python3.6/site-packages/skimage/transform/_warps.py:110: UserWarning: Anti-aliasing will be enabled by default in skimage 0.15 to avoid aliasing artifacts when down-sampling images.\n",
      "  warn(\"Anti-aliasing will be enabled by default in skimage 0.15 to \"\n",
      "/Users/gw18g940/miniconda3/envs/pyimageprocessing/lib/python3.6/site-packages/skimage/transform/_warps.py:24: UserWarning: The default multichannel argument (None) is deprecated.  Please specify either True or False explicitly.  multichannel will default to False starting with release 0.16.\n",
      "  warn('The default multichannel argument (None) is deprecated.  Please '\n",
      "/Users/gw18g940/miniconda3/envs/pyimageprocessing/lib/python3.6/site-packages/skimage/transform/_warps.py:105: UserWarning: The default mode, 'constant', will be changed to 'reflect' in skimage 0.15.\n",
      "  warn(\"The default mode, 'constant', will be changed to 'reflect' in \"\n",
      "/Users/gw18g940/miniconda3/envs/pyimageprocessing/lib/python3.6/site-packages/skimage/transform/_warps.py:110: UserWarning: Anti-aliasing will be enabled by default in skimage 0.15 to avoid aliasing artifacts when down-sampling images.\n",
      "  warn(\"Anti-aliasing will be enabled by default in skimage 0.15 to \"\n",
      "/Users/gw18g940/miniconda3/envs/pyimageprocessing/lib/python3.6/site-packages/skimage/transform/_warps.py:24: UserWarning: The default multichannel argument (None) is deprecated.  Please specify either True or False explicitly.  multichannel will default to False starting with release 0.16.\n",
      "  warn('The default multichannel argument (None) is deprecated.  Please '\n",
      "/Users/gw18g940/miniconda3/envs/pyimageprocessing/lib/python3.6/site-packages/skimage/transform/_warps.py:105: UserWarning: The default mode, 'constant', will be changed to 'reflect' in skimage 0.15.\n",
      "  warn(\"The default mode, 'constant', will be changed to 'reflect' in \"\n",
      "/Users/gw18g940/miniconda3/envs/pyimageprocessing/lib/python3.6/site-packages/skimage/transform/_warps.py:110: UserWarning: Anti-aliasing will be enabled by default in skimage 0.15 to avoid aliasing artifacts when down-sampling images.\n",
      "  warn(\"Anti-aliasing will be enabled by default in skimage 0.15 to \"\n"
     ]
    },
    {
     "data": {
      "image/png": "[encoded data removed]",
      "text/plain": [
       "<Figure size 1080x720 with 10 Axes>"
      ]
     },
     "metadata": {
      "needs_background": "light"
     },
     "output_type": "display_data"
    }
   ],
   "source": [
    "fig, ax = plt.subplots(1, 10, figsize = (15,10))\n",
    "for x in range(10):\n",
    "    final_size = 32\n",
    "    \n",
    "    im_re = skimage.transform.rescale(characters[x],1/(characters[x].shape[0]/24),preserve_range=True, order = 0)\n",
    "    empty = np.zeros((32,32))\n",
    "    empty[int((32-im_re.shape[0])/2):int((32-im_re.shape[0])/2)+im_re.shape[0],\n",
    "         int((32-im_re.shape[1])/2):int((32-im_re.shape[1])/2)+im_re.shape[1]] = im_re\n",
    "    to_pass = empty<0.5\n",
    "\n",
    "    to_pass = (255*to_pass).astype(np.uint8)\n",
    "    ypred = model.predict(np.reshape(to_pass,32**2)[np.newaxis,:])\n",
    "    ax[x].imshow(to_pass)\n",
    "    ax[x].set_title(ypred[0])\n",
    "plt.show()"
   ]
  },
  {
   "cell_type": "markdown",
   "metadata": {},
   "source": [
    "## 14.4 With all characters"
   ]
  },
  {
   "cell_type": "code",
   "execution_count": 172,
   "metadata": {},
   "outputs": [
    {
     "data": {
      "text/plain": [
       "(6200,)"
      ]
     },
     "execution_count": 172,
     "metadata": {},
     "output_type": "execute_result"
    }
   ],
   "source": [
    "category.shape"
   ]
  },
  {
   "cell_type": "code",
   "execution_count": 173,
   "metadata": {},
   "outputs": [
    {
     "data": {
      "text/plain": [
       "(6200, 1024)"
      ]
     },
     "execution_count": 173,
     "metadata": {},
     "output_type": "execute_result"
    }
   ],
   "source": [
    "data.shape"
   ]
  },
  {
   "cell_type": "code",
   "execution_count": null,
   "metadata": {
    "scrolled": true
   },
   "outputs": [],
   "source": [
    "num_samples = 100\n",
    "\n",
    "all_data = []\n",
    "for ind, s in enumerate(samples[0:62]):\n",
    "    files = glob.glob(s+'/*.png')\n",
    "    \n",
    "    data = np.array([np.reshape(skimage.transform.rescale(skimage.io.imread(files[x]),1/4),32**2) \n",
    "        for x in np.random.choice(np.arange(len(files)),num_samples,replace=False)])\n",
    "    \n",
    "    all_data.append(data)\n",
    "data = np.concatenate(all_data,axis = 0)\n",
    "\n",
    "chars = 'abcdefghijklmnopqrstuvwxyz'\n",
    "cats = [str(i) for i in range(10)]+[i for i in chars.upper()]+[i for i in chars]\n",
    "category = np.concatenate([[cats[i] for j in range(num_samples)] for i in range(len(cats))])\n",
    "\n",
    "Xtrain, Xtest, ytrain, ytest = train_test_split(data, category, random_state=0)\n",
    "\n",
    "model = RandomForestClassifier(n_estimators=1000)\n",
    "model.fit(Xtrain, ytrain)"
   ]
  },
  {
   "cell_type": "code",
   "execution_count": 174,
   "metadata": {},
   "outputs": [
    {
     "name": "stdout",
     "output_type": "stream",
     "text": [
      "              precision    recall  f1-score   support\n",
      "\n",
      "           0       0.68      0.61      0.64        31\n",
      "           1       0.92      0.77      0.84        30\n",
      "           2       0.88      0.95      0.91        22\n",
      "           3       0.95      0.78      0.86        27\n",
      "           4       0.84      0.72      0.78        29\n",
      "           5       0.74      0.88      0.81        26\n",
      "           6       0.85      0.77      0.81        22\n",
      "           7       0.93      0.88      0.90        16\n",
      "           8       0.82      0.93      0.87        29\n",
      "           9       0.71      0.88      0.79        17\n",
      "           A       0.91      0.83      0.87        24\n",
      "           B       0.78      0.60      0.68        30\n",
      "           C       0.48      0.62      0.54        16\n",
      "           D       0.71      1.00      0.83        20\n",
      "           E       0.81      0.85      0.83        20\n",
      "           F       0.97      0.88      0.92        34\n",
      "           G       0.80      0.94      0.86        17\n",
      "           H       0.92      0.79      0.85        29\n",
      "           I       0.74      0.61      0.67        33\n",
      "           J       0.81      0.63      0.71        27\n",
      "           K       0.88      0.88      0.88        26\n",
      "           L       0.81      0.76      0.79        29\n",
      "           M       0.87      0.84      0.86        32\n",
      "           N       0.77      0.85      0.81        20\n",
      "           O       0.70      0.53      0.60        30\n",
      "           P       0.64      0.80      0.71        20\n",
      "           Q       0.77      0.96      0.85        24\n",
      "           R       0.75      0.86      0.80        21\n",
      "           S       0.45      0.71      0.56        21\n",
      "           T       0.79      0.92      0.85        24\n",
      "           U       0.77      0.92      0.84        25\n",
      "           V       0.41      0.53      0.46        17\n",
      "           W       0.54      0.59      0.57        22\n",
      "           X       0.50      0.54      0.52        28\n",
      "           Y       0.75      0.88      0.81        24\n",
      "           Z       0.79      0.61      0.69        31\n",
      "           a       0.91      0.84      0.87        25\n",
      "           b       0.70      0.90      0.79        21\n",
      "           c       0.56      0.48      0.51        21\n",
      "           d       0.87      0.87      0.87        23\n",
      "           e       0.73      0.67      0.70        24\n",
      "           f       0.88      0.70      0.78        33\n",
      "           g       0.74      0.93      0.82        27\n",
      "           h       0.83      0.95      0.88        20\n",
      "           i       0.79      0.85      0.81        26\n",
      "           j       0.89      0.77      0.83        31\n",
      "           k       0.88      0.88      0.88        25\n",
      "           l       0.70      0.57      0.63        28\n",
      "           m       0.80      0.80      0.80        30\n",
      "           n       0.96      0.92      0.94        26\n",
      "           o       0.46      0.52      0.49        25\n",
      "           p       0.75      0.81      0.78        26\n",
      "           q       0.74      0.85      0.79        20\n",
      "           r       0.81      0.85      0.83        26\n",
      "           s       0.65      0.48      0.55        27\n",
      "           t       0.92      0.80      0.86        30\n",
      "           u       0.88      0.84      0.86        25\n",
      "           v       0.45      0.41      0.43        22\n",
      "           w       0.75      0.60      0.67        35\n",
      "           x       0.48      0.44      0.46        25\n",
      "           y       0.75      0.60      0.67        20\n",
      "           z       0.52      0.75      0.62        16\n",
      "\n",
      "   micro avg       0.76      0.76      0.76      1550\n",
      "   macro avg       0.76      0.76      0.75      1550\n",
      "weighted avg       0.77      0.76      0.76      1550\n",
      "\n"
     ]
    }
   ],
   "source": [
    "ypred = model.predict(Xtest)\n",
    "print(metrics.classification_report(ypred, ytest))"
   ]
  },
  {
   "cell_type": "code",
   "execution_count": 175,
   "metadata": {},
   "outputs": [
    {
     "data": {
      "image/png": "[encoded data removed]",
      "text/plain": [
       "<Figure size 720x720 with 1 Axes>"
      ]
     },
     "metadata": {
      "needs_background": "light"
     },
     "output_type": "display_data"
    }
   ],
   "source": [
    "mat = confusion_matrix(ytest, ypred)\n",
    "fig, ax = plt.subplots(figsize=(10,10))\n",
    "plt.imshow(mat.T,vmin = 0,vmax = 10)#, square=True, annot=True, fmt='d', cbar=False)\n",
    "plt.xticks(ticks=np.arange(62),labels=cats)\n",
    "plt.yticks(ticks=np.arange(62),labels=cats)\n",
    "plt.xlabel('true label')\n",
    "plt.ylabel('predicted label');"
   ]
  },
  {
   "cell_type": "code",
   "execution_count": null,
   "metadata": {},
   "outputs": [],
   "source": []
  }
 ],
 "metadata": {
  "kernelspec": {
   "display_name": "Python 3",
   "language": "python",
   "name": "python3"
  },
  "language_info": {
   "codemirror_mode": {
    "name": "ipython",
    "version": 3
   },
   "file_extension": ".py",
   "mimetype": "text/x-python",
   "name": "python",
   "nbconvert_exporter": "python",
   "pygments_lexer": "ipython3",
   "version": "3.6.7"
  },
  "toc": {
   "base_numbering": 1,
   "nav_menu": {},
   "number_sections": false,
   "sideBar": true,
   "skip_h1_title": false,
   "title_cell": "Table of Contents",
   "title_sidebar": "Contents",
   "toc_cell": false,
   "toc_position": {},
   "toc_section_display": true,
   "toc_window_display": true
  }
 },
 "nbformat": 4,
 "nbformat_minor": 2
}
